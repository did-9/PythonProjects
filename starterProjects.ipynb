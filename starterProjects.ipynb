{
 "cells": [
  {
   "cell_type": "code",
   "execution_count": 6,
   "metadata": {},
   "outputs": [
    {
     "name": "stdout",
     "output_type": "stream",
     "text": [
      "Guess the number between 1 and 10.\n",
      "\n",
      "To low. (4)\n",
      "\n",
      "To high. (9)\n",
      "\n",
      "To low. (6)\n",
      "\n",
      "You did it! (7)\n"
     ]
    }
   ],
   "source": [
    "# Guess the number\n",
    "\n",
    "from random import randint\n",
    "\n",
    "low_num, hi_num = 1, 10\n",
    "\n",
    "the_num: int = randint(low_num, hi_num)\n",
    "\n",
    "print(f\"Guess the number between {low_num} and {hi_num}.\")\n",
    "\n",
    "while True:\n",
    "    try:\n",
    "        guess_num: int = int(input(\"\\nEnter the number: \"))\n",
    "        \n",
    "    except ValueError as eve:\n",
    "        print(\"\\nHei, just numbers.\")\n",
    "        continue\n",
    "    \n",
    "    if the_num > guess_num:\n",
    "        print(f\"\\nTo low. ({guess_num})\")\n",
    "    elif the_num < guess_num:\n",
    "        print(f\"\\nTo high. ({guess_num})\")\n",
    "    else:\n",
    "        print(f\"\\nYou did it! ({guess_num})\")\n",
    "        break\n",
    "    "
   ]
  },
  {
   "cell_type": "code",
   "execution_count": 24,
   "metadata": {},
   "outputs": [
    {
     "name": "stdout",
     "output_type": "stream",
     "text": [
      "Enter the number of dices or EXIT to finish the game.\n",
      "3, 4,  (7) \n",
      "\n",
      "Have a nice day!\n"
     ]
    }
   ],
   "source": [
    "# Roll the dice\n",
    "\n",
    "import random\n",
    "\n",
    "def roll_dice(dices: int = 2) -> list[int]:\n",
    "    if dices <= 0:\n",
    "        raise ValueError\n",
    "    \n",
    "    roll_out: list[int] = []\n",
    "    \n",
    "    for _ in range(dices):\n",
    "        roll_out.append(random.randint(1,6))\n",
    "        \n",
    "    return roll_out\n",
    "\n",
    "def main():\n",
    "    print(\"Enter the number of dices or EXIT to finish the game.\")\n",
    "    while True:\n",
    "        try:\n",
    "            nr_dices = input(\"\\nHow many dices do you want to roll? > \")\n",
    "            if nr_dices.lower() == \"exit\":\n",
    "                print(\"\\nHave a nice day!\")\n",
    "                break\n",
    "            all_dices = roll_dice(int(nr_dices))\n",
    "            print(*all_dices, \" (\" + str(sum(all_dices)) + \") \", sep=\", \")\n",
    "            # print(f\"The total value of dices is: {sum(all_dices)}\")\n",
    "        except ValueError:\n",
    "            print(\"\\nThere is a wrong value!\")\n",
    "            continue\n",
    "        \n",
    "    \n",
    "if __name__ == \"__main__\":    \n",
    "    main()\n",
    "    \n"
   ]
  },
  {
   "cell_type": "code",
   "execution_count": 24,
   "metadata": {},
   "outputs": [],
   "source": [
    "# Hangman\n",
    "import random\n",
    "\n",
    "def play_game():\n",
    "    \n",
    "    words_to_play: list = [\"banana\",\"triangle\",\"heliport\"]\n",
    "    played_word: str = random.choice(words_to_play)\n",
    "    errors: int = 3\n",
    "    temp_word: str = \"\"\n",
    "    \n",
    "    \n",
    "    player_name = input(\"Tell me your name: \")\n",
    "    print(f\"Welcome to Hangman game, {player_name}!\")\n",
    "    \n",
    "    print(\"Word: \", end=\"\")\n",
    "    for _ in played_word:\n",
    "        print(\"_\", end=\" \")\n",
    "        \n",
    "    # print(\"\\n\", played_word)\n",
    "    \n",
    "    while errors > 0:\n",
    "        chosed_letter = input(\"Choose a letter: \")\n",
    "        if len(chosed_letter) > 1 and chosed_letter != played_word:\n",
    "            errors -= 1\n",
    "            if errors == 0:\n",
    "                print(\"\\nWrong!\")\n",
    "                print(\"\\nNo more attemps remaining. You loose...\")\n",
    "            else:\n",
    "                print(\"\\nPlease enter just one letter or the winning word.\")\n",
    "                print(f\"The numbers of remaining attemps: {errors}\")\n",
    "            continue\n",
    "        len_played_word: int = len(played_word)\n",
    "        if chosed_letter in played_word:\n",
    "            print(\"\\nGood choice.\")\n",
    "            temp_word += chosed_letter\n",
    "            print(\"\\nWord: \", end=\"\")\n",
    "            for letter in played_word:\n",
    "                if letter in temp_word:\n",
    "                    print(letter, end=\" \")\n",
    "                    len_played_word -= 1\n",
    "                else:\n",
    "                    print(\"_\", end=\" \")\n",
    "            if len_played_word == 0:\n",
    "                print(\"\\nYou win!\")\n",
    "                break\n",
    "        else:\n",
    "            print(f\"\\nUps, no such a letter >> {chosed_letter}\")\n",
    "            errors -= 1\n",
    "            if errors == 0:\n",
    "                print(\"\\nNo more attemps remaining. You loose...\")\n",
    "            else:\n",
    "                print(f\"The numbers of remaining attemps: {errors}\")\n",
    "    \n",
    "    \n",
    "    # print(temp_word)\n",
    "    "
   ]
  },
  {
   "cell_type": "code",
   "execution_count": 26,
   "metadata": {},
   "outputs": [
    {
     "name": "stdout",
     "output_type": "stream",
     "text": [
      "Welcome to Hangman game, asdff!\n",
      "Word: _ _ _ _ _ _ _ _ \n",
      "Please enter just one letter or the winning word.\n",
      "The numbers of remaining attemps: 2\n",
      "\n",
      "Please enter just one letter or the winning word.\n",
      "The numbers of remaining attemps: 1\n",
      "\n",
      "Wrong!\n",
      "\n",
      "No more attemps remaining. You loose...\n"
     ]
    }
   ],
   "source": [
    "if __name__ == \"__main__\":\n",
    "    play_game()\n",
    "    \n"
   ]
  }
 ],
 "metadata": {
  "kernelspec": {
   "display_name": "Python 3",
   "language": "python",
   "name": "python3"
  },
  "language_info": {
   "codemirror_mode": {
    "name": "ipython",
    "version": 3
   },
   "file_extension": ".py",
   "mimetype": "text/x-python",
   "name": "python",
   "nbconvert_exporter": "python",
   "pygments_lexer": "ipython3",
   "version": "3.12.1"
  }
 },
 "nbformat": 4,
 "nbformat_minor": 2
}
