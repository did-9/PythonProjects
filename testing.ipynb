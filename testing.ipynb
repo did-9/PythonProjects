{
 "cells": [
  {
   "cell_type": "code",
   "execution_count": 2,
   "metadata": {},
   "outputs": [
    {
     "name": "stdout",
     "output_type": "stream",
     "text": [
      "15\n"
     ]
    }
   ],
   "source": [
    "lst = [10,2,3]\n",
    "\n",
    "print(sum(lst))"
   ]
  },
  {
   "cell_type": "code",
   "execution_count": 5,
   "metadata": {},
   "outputs": [
    {
     "name": "stdout",
     "output_type": "stream",
     "text": [
      "['a', 'a', 'a', 'b', 'n', 'n']\n",
      "['a', 'b', 'n']\n"
     ]
    }
   ],
   "source": [
    "sir = \"banana\"\n",
    "\n",
    "print(sorted(sir))\n",
    "\n",
    "print(sorted(set(sir)))\n"
   ]
  },
  {
   "cell_type": "code",
   "execution_count": 2,
   "metadata": {},
   "outputs": [
    {
     "name": "stdout",
     "output_type": "stream",
     "text": [
      "Salutare Gica!\n",
      "Salutare Vasilica!\n"
     ]
    }
   ],
   "source": [
    "class Oclasa:\n",
    "    def __init__(self, nume: str) -> None:\n",
    "        self.nume  = nume\n",
    "    \n",
    "    def salutare(self) -> str:\n",
    "        print(\"Salutare\",self.nume+\"!\")\n",
    "\n",
    "unu = Oclasa(\"Gica\")\n",
    "unu.salutare()\n",
    "\n",
    "doi = Oclasa(\"Vasilica\")        \n",
    "doi.salutare()\n",
    "\n"
   ]
  }
 ],
 "metadata": {
  "kernelspec": {
   "display_name": "Python 3",
   "language": "python",
   "name": "python3"
  },
  "language_info": {
   "codemirror_mode": {
    "name": "ipython",
    "version": 3
   },
   "file_extension": ".py",
   "mimetype": "text/x-python",
   "name": "python",
   "nbconvert_exporter": "python",
   "pygments_lexer": "ipython3",
   "version": "3.12.1"
  }
 },
 "nbformat": 4,
 "nbformat_minor": 2
}
